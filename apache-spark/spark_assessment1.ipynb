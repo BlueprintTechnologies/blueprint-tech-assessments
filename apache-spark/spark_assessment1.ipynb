{
 "cells": [
  {
   "cell_type": "code",
   "execution_count": 1,
   "id": "65a5b951",
   "metadata": {},
   "outputs": [],
   "source": [
    "# install required packages\n",
    "# pip install pyspark\n",
    "# pip install requests"
   ]
  },
  {
   "cell_type": "code",
   "execution_count": 2,
   "id": "f9cfa514",
   "metadata": {},
   "outputs": [],
   "source": [
    "# import relevant libraries\n",
    "import os\n",
    "import json\n",
    "import pyspark\n",
    "import requests\n",
    "import zipfile\n",
    "from pyspark.sql import SparkSession\n",
    "from pyspark.sql.window import Window\n",
    "from pyspark.sql.functions import col, row_number"
   ]
  },
  {
   "cell_type": "code",
   "execution_count": 3,
   "id": "e0ad04d1",
   "metadata": {},
   "outputs": [
    {
     "name": "stdout",
     "output_type": "stream",
     "text": [
      "22/12/09 09:18:54 WARN Utils: Your hostname, algorithmspath-HP-EliteBook-840-G2 resolves to a loopback address: 127.0.1.1; using 192.168.1.229 instead (on interface enp0s25)\n",
      "22/12/09 09:18:54 WARN Utils: Set SPARK_LOCAL_IP if you need to bind to another address\n"
     ]
    },
    {
     "name": "stderr",
     "output_type": "stream",
     "text": [
      "Setting default log level to \"WARN\".\n",
      "To adjust logging level use sc.setLogLevel(newLevel). For SparkR, use setLogLevel(newLevel).\n"
     ]
    },
    {
     "name": "stdout",
     "output_type": "stream",
     "text": [
      "22/12/09 09:18:55 WARN NativeCodeLoader: Unable to load native-hadoop library for your platform... using builtin-java classes where applicable\n"
     ]
    }
   ],
   "source": [
    "# set data links as constants; can be algorithmically scraped\n",
    "zipLinks = [\n",
    "    \"https://s3.amazonaws.com/capitalbikeshare-data/202210-capitalbikeshare-tripdata.zip\",\n",
    "    \"https://s3.amazonaws.com/capitalbikeshare-data/202211-capitalbikeshare-tripdata.zip\"\n",
    "]\n",
    "\n",
    "# initialize spark\n",
    "spark = SparkSession.builder.master(\"local[1]\").appName(\"BluePrintAssessment\").getOrCreate()"
   ]
  },
  {
   "cell_type": "code",
   "execution_count": 4,
   "id": "2c6bc089",
   "metadata": {},
   "outputs": [],
   "source": [
    "def selectFilePart(zipUrl):\n",
    "    i1 = zipUrl.rfind('/')\n",
    "    if i1 == -1:\n",
    "        return zipUrl\n",
    "    return zipUrl[i1+1:]\n",
    "\n",
    "# initialize data reader for ETL: (zip) => (csv) @ local machine\n",
    "class DataReader():\n",
    "    def __init__(self, baseDir):\n",
    "        self.baseDir = baseDir\n",
    "        self.archiveDir = f'{self.baseDir}/archive'\n",
    "        self.dataDir = f'{self.baseDir}/data'\n",
    "\n",
    "        for x in [ self.archiveDir, self.dataDir ]:\n",
    "            if not os.path.isdir(x):\n",
    "                os.mkdir(x)\n",
    "\n",
    "    def downloadZip(self, zipUrl):\n",
    "        savePath = f'{self.archiveDir}/{selectFilePart(zipUrl)}'\n",
    "        resp = requests.get(zipUrl)\n",
    "        fp = open(savePath, 'wb')\n",
    "        fp.write(resp.content)\n",
    "        fp.close()\n",
    "\n",
    "    def extractZip(self, zipUrl):\n",
    "        localZipPath = f'{self.archiveDir}/{selectFilePart(zipUrl)}'\n",
    "        zipObj = zipfile.ZipFile(localZipPath)\n",
    "        zipObj.extractall(self.dataDir)\n",
    "\n",
    "    def downloadExtract(self, zipUrl):\n",
    "        self.downloadZip(zipUrl)\n",
    "        self.extractZip(zipUrl)"
   ]
  },
  {
   "cell_type": "code",
   "execution_count": 5,
   "id": "c3c80223",
   "metadata": {},
   "outputs": [
    {
     "name": "stdout",
     "output_type": "stream",
     "text": [
      "loading: https://s3.amazonaws.com/capitalbikeshare-data/202211-capitalbikeshare-tripdata.zip\n",
      "loading: https://s3.amazonaws.com/capitalbikeshare-data/202210-capitalbikeshare-tripdata.zip\n"
     ]
    },
    {
     "name": "stderr",
     "output_type": "stream",
     "text": [
      "                                                                                \r"
     ]
    },
    {
     "name": "stdout",
     "output_type": "stream",
     "text": [
      "+----------------+-------------+-------------------+-------------------+--------------------+----------------+----------------+--------------+-----------------+------------------+-------+-------+-------------+\n",
      "|         ride_id|rideable_type|         started_at|           ended_at|  start_station_name|start_station_id|end_station_name|end_station_id|        start_lat|         start_lng|end_lat|end_lng|member_casual|\n",
      "+----------------+-------------+-------------------+-------------------+--------------------+----------------+----------------+--------------+-----------------+------------------+-------+-------+-------------+\n",
      "|636812F7EDA843A3|electric_bike|2022-10-21 07:19:55|2022-10-21 07:32:47|Fairfax Dr & N Ta...|           31049|            null|          null|       38.8823895|         -77.11283|  38.88| -77.11|       member|\n",
      "|2963CAC314D0C593|electric_bike|2022-10-21 16:52:10|2022-10-21 17:07:43| Eads St & 12th St S|           31071|            null|          null|       38.8630035|-77.05462916666667|  38.86| -77.05|       member|\n",
      "|81383A5B7B0DDF3D|electric_bike|2022-10-17 09:23:40|2022-10-17 09:41:44|Van Ness Metro / UDC|           31300|            null|          null|38.94452183333333|-77.06384866666667|  38.91| -77.08|       member|\n",
      "+----------------+-------------+-------------------+-------------------+--------------------+----------------+----------------+--------------+-----------------+------------------+-------+-------+-------------+\n",
      "only showing top 3 rows\n",
      "\n"
     ]
    },
    {
     "name": "stderr",
     "output_type": "stream",
     "text": [
      "\r",
      "[Stage 3:>                                                          (0 + 1) / 1]\r"
     ]
    },
    {
     "name": "stdout",
     "output_type": "stream",
     "text": [
      "593026\n"
     ]
    },
    {
     "name": "stderr",
     "output_type": "stream",
     "text": [
      "\r",
      "                                                                                \r"
     ]
    }
   ],
   "source": [
    "### PART 1: use spark to read data ###\n",
    "\n",
    "dataReader = DataReader( os.getcwd() )\n",
    "\n",
    "# download: last 2 links\n",
    "for i in range(0, 2):\n",
    "    print( f'loading: {zipLinks[len(zipLinks)-i-1]}' )\n",
    "    dataReader.downloadExtract(zipLinks[len(zipLinks)-i-1])\n",
    "\n",
    "# considers merged csv's\n",
    "csvPath = f'{dataReader.dataDir}/*.csv'\n",
    "\n",
    "# inferredSchema = {\n",
    "#     \"ride_id\": \"string\",\n",
    "#     \"rideable_type\": \"string\",\n",
    "#     \"started_at\": \"timestamp\",\n",
    "#     \"ended_at\": \"timestamp\",\n",
    "#     \"start_station_name\": \"string\",\n",
    "#     \"start_station_id\": \"integer\",\n",
    "#     \"end_station_name\": \"string\",\n",
    "#     \"end_station_id\": \"integer\",\n",
    "#     \"start_lat\": \"double\",\n",
    "#     \"start_lng\": \"double\",\n",
    "#     \"end_lat\": \"double\",\n",
    "#     \"end_lng\": \"double\",\n",
    "#     \"member_casual\": \"string\"\n",
    "# }\n",
    "df = spark.read.csv(\n",
    "    csvPath,\n",
    "    header=True,\n",
    "    mode=\"DROPMALFORMED\",\n",
    "    inferSchema=True\n",
    ")\n",
    "df.show(3)\n",
    "print( df.count() )"
   ]
  },
  {
   "cell_type": "code",
   "execution_count": 6,
   "id": "06d9a12f",
   "metadata": {},
   "outputs": [
    {
     "name": "stderr",
     "output_type": "stream",
     "text": [
      "\r",
      "[Stage 6:>                                                          (0 + 1) / 1]\r"
     ]
    },
    {
     "name": "stdout",
     "output_type": "stream",
     "text": [
      "557675\n"
     ]
    },
    {
     "name": "stderr",
     "output_type": "stream",
     "text": [
      "\r",
      "                                                                                \r"
     ]
    }
   ],
   "source": [
    "### PART 2: transform data to run efficient analytics ###\n",
    "\n",
    "# logic: drop rows with one or more null values\n",
    "df = df.dropna()\n",
    "print( df.count() )"
   ]
  },
  {
   "cell_type": "code",
   "execution_count": 7,
   "id": "f99fb9e2",
   "metadata": {},
   "outputs": [
    {
     "name": "stdout",
     "output_type": "stream",
     "text": [
      "+----------------+-------------+-------------------+-------------------+--------------------+----------------+--------------------+--------------+-------------+\n",
      "|         ride_id|rideable_type|         started_at|           ended_at|  start_station_name|start_station_id|    end_station_name|end_station_id|member_casual|\n",
      "+----------------+-------------+-------------------+-------------------+--------------------+----------------+--------------------+--------------+-------------+\n",
      "|88E008078B2E7FFC|electric_bike|2022-10-19 20:16:01|2022-10-19 20:22:35|14th & Rhode Isla...|           31203|New Hampshire Ave...|         31275|       member|\n",
      "|53D58D1427BF475B| classic_bike|2022-10-25 21:10:30|2022-10-25 21:18:51|   Potomac & M St NW|           31295|New Hampshire Ave...|         31212|       member|\n",
      "|69247684F27CAB16| classic_bike|2022-10-20 18:07:02|2022-10-20 18:11:37|14th & Rhode Isla...|           31203|Rhode Island & Co...|         31239|       member|\n",
      "+----------------+-------------+-------------------+-------------------+--------------------+----------------+--------------------+--------------+-------------+\n",
      "only showing top 3 rows\n",
      "\n"
     ]
    }
   ],
   "source": [
    "### PART 3: delete latitude related columns ###\n",
    "\n",
    "# logic: call df.drop on target columns\n",
    "df = df.drop(\"start_lat\", \"start_lng\", \"end_lat\", \"end_lng\")\n",
    "df.show(3)"
   ]
  },
  {
   "cell_type": "code",
   "execution_count": 8,
   "id": "18972406",
   "metadata": {},
   "outputs": [
    {
     "name": "stdout",
     "output_type": "stream",
     "text": [
      "+----------------+-------------+-------------------+-------------------+--------------------+----------------+--------------------+--------------+-------------+--------+\n",
      "|         ride_id|rideable_type|         started_at|           ended_at|  start_station_name|start_station_id|    end_station_name|end_station_id|member_casual|duration|\n",
      "+----------------+-------------+-------------------+-------------------+--------------------+----------------+--------------------+--------------+-------------+--------+\n",
      "|88E008078B2E7FFC|electric_bike|2022-10-19 20:16:01|2022-10-19 20:22:35|14th & Rhode Isla...|           31203|New Hampshire Ave...|         31275|       member|     394|\n",
      "|53D58D1427BF475B| classic_bike|2022-10-25 21:10:30|2022-10-25 21:18:51|   Potomac & M St NW|           31295|New Hampshire Ave...|         31212|       member|     501|\n",
      "|69247684F27CAB16| classic_bike|2022-10-20 18:07:02|2022-10-20 18:11:37|14th & Rhode Isla...|           31203|Rhode Island & Co...|         31239|       member|     275|\n",
      "+----------------+-------------+-------------------+-------------------+--------------------+----------------+--------------------+--------------+-------------+--------+\n",
      "only showing top 3 rows\n",
      "\n"
     ]
    }
   ],
   "source": [
    "### PART 4: add duration of each ride ###\n",
    "\n",
    "# logic: add duration column to dataframe as [ended_at] - [started_at]\n",
    "# duration is in seconds\n",
    "df = df.withColumn( 'duration', col(\"ended_at\").cast(\"long\") - col('started_at').cast(\"long\") )\n",
    "df.show(3)"
   ]
  },
  {
   "cell_type": "code",
   "execution_count": 9,
   "id": "4cab616b",
   "metadata": {},
   "outputs": [
    {
     "name": "stderr",
     "output_type": "stream",
     "text": [
      "\r",
      "[Stage 11:>                                                         (0 + 1) / 1]\r"
     ]
    },
    {
     "name": "stdout",
     "output_type": "stream",
     "text": [
      "+-------------+------------------+\n",
      "|rideable_type|     avg(duration)|\n",
      "+-------------+------------------+\n",
      "|  docked_bike| 3906.955096196211|\n",
      "|electric_bike| 851.2544860576362|\n",
      "| classic_bike|1045.9276883572882|\n",
      "+-------------+------------------+\n",
      "\n"
     ]
    },
    {
     "name": "stderr",
     "output_type": "stream",
     "text": [
      "\r",
      "                                                                                \r"
     ]
    }
   ],
   "source": [
    "### PART 5: calculate average ride duration for each rideable type ###\n",
    "\n",
    "# logic: group by [rideable_type] then perform average on [duration]\n",
    "avgDurationPerType = df.groupBy('rideable_type').avg('duration')\n",
    "avgDurationPerType.show()"
   ]
  },
  {
   "cell_type": "code",
   "execution_count": 10,
   "id": "1b87e166",
   "metadata": {},
   "outputs": [
    {
     "name": "stderr",
     "output_type": "stream",
     "text": [
      "[Stage 16:>                                                         (0 + 1) / 1]\r"
     ]
    },
    {
     "name": "stdout",
     "output_type": "stream",
     "text": [
      "+--------+--------------------+\n",
      "|duration|  start_station_name|\n",
      "+--------+--------------------+\n",
      "|  110031|      10th & K St NW|\n",
      "|   88236|      13th & D St NE|\n",
      "| 1946330|14th & Belmont St NW|\n",
      "|  149613|14th & D St NW / ...|\n",
      "|   89658|14th & D St NW / ...|\n",
      "|   94628|      14th & D St SE|\n",
      "|  162111|      14th & G St NW|\n",
      "|   87631|   14th & Otis Pl NW|\n",
      "|  691477|15th St & Pennsyl...|\n",
      "|  124772|17th & K St NW / ...|\n",
      "|  356007|      18th & L St NW|\n",
      "|   88095|18th St & Wyoming...|\n",
      "|   92547|19th St & Constit...|\n",
      "|   97124|       1st & M St NE|\n",
      "|  335469|       1st & M St SE|\n",
      "|  785165|1st & Washington ...|\n",
      "|   92606|      20th & E St NW|\n",
      "|   88259|20th St & Virgini...|\n",
      "|  108315|      21st & I St NW|\n",
      "|   87711|      21st & I St NW|\n",
      "+--------+--------------------+\n",
      "only showing top 20 rows\n",
      "\n"
     ]
    },
    {
     "name": "stderr",
     "output_type": "stream",
     "text": [
      "\r",
      "                                                                                \r"
     ]
    }
   ],
   "source": [
    "### PART 6: calculate top 10 ride durations (longer than 24 hours) for each start station ###\n",
    "\n",
    "# logic: partition [start_station_name] sort [duration] filter [ duration > 24hr and partition_num <= 10 ]\n",
    "startStationPartition = Window.partitionBy(\"start_station_name\").orderBy(col(\"duration\").desc())\n",
    "resultDf = df \\\n",
    "    .withColumn(\"partition_row_id\", row_number().over(startStationPartition)) \\\n",
    "    .filter( (col(\"duration\") > 24 * 3600) & (col(\"partition_row_id\") <= 10) ) \\\n",
    "    .select('duration', 'start_station_name')\n",
    "\n",
    "resultDf.show()"
   ]
  },
  {
   "cell_type": "code",
   "execution_count": null,
   "id": "444bcaa1",
   "metadata": {},
   "outputs": [],
   "source": []
  }
 ],
 "metadata": {
  "kernelspec": {
   "display_name": "Python 3 (ipykernel)",
   "language": "python",
   "name": "python3"
  },
  "language_info": {
   "codemirror_mode": {
    "name": "ipython",
    "version": 3
   },
   "file_extension": ".py",
   "mimetype": "text/x-python",
   "name": "python",
   "nbconvert_exporter": "python",
   "pygments_lexer": "ipython3",
   "version": "3.8.10"
  }
 },
 "nbformat": 4,
 "nbformat_minor": 5
}
