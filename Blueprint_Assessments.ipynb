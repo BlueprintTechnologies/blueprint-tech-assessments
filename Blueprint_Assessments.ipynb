{
 "cells": [
  {
   "cell_type": "code",
   "execution_count": 11,
   "id": "dd953d11",
   "metadata": {},
   "outputs": [],
   "source": [
    "## Importing necessary Libraries\n",
    "import findspark\n",
    "findspark.init()\n",
    "import pyspark\n",
    "import pandas\n",
    "from pyspark.sql import SparkSession\n",
    "from pyspark.sql import functions as f\n",
    "from pyspark.sql.types import StructType,StructField, StringType, IntegerType , BooleanType,TimestampType, DoubleType"
   ]
  },
  {
   "cell_type": "code",
   "execution_count": 12,
   "id": "27186c6c",
   "metadata": {},
   "outputs": [],
   "source": [
    "## Creating Spark Session\n",
    "spark = SparkSession.builder.getOrCreate()"
   ]
  },
  {
   "cell_type": "code",
   "execution_count": 17,
   "id": "2e1ab6ba",
   "metadata": {},
   "outputs": [
    {
     "name": "stdout",
     "output_type": "stream",
     "text": [
      "+----------------+-------------+-------------------+-------------------+-----------------------------------------+----------------+-----------------------------------------+--------------+------------------+-----------------+-------------+--------+\n",
      "|ride_id         |rideable_type|started_at         |ended_at           |start_station_name                       |start_station_id|end_station_name                         |end_station_id|start_lng         |end_lng          |member_casual|duration|\n",
      "+----------------+-------------+-------------------+-------------------+-----------------------------------------+----------------+-----------------------------------------+--------------+------------------+-----------------+-------------+--------+\n",
      "|C40CF15D0DBE584E|classic_bike |2022-09-23 18:42:27|2022-09-24 08:27:11|Georgia Ave & Morton St NW               |31419           |14th St Heights / 14th & Crittenden St NW|31402         |-77.0235          |-77.032818       |member       |49484   |\n",
      "|3788C1944643B399|classic_bike |2022-09-22 01:35:01|2022-09-22 01:49:59|7th & T St NW                            |31109           |7th St & Massachusetts Ave NE            |31647         |-77.021703        |-76.99602        |member       |898     |\n",
      "|A9E14A3286BB0922|classic_bike |2022-09-16 17:04:11|2022-09-16 17:08:40|7th & F St NW / National Portrait Gallery|31232           |North Capitol St & F St NW               |31624         |-77.02219069004059|-77.009888       |member       |269     |\n",
      "|77518ADEB4313901|classic_bike |2022-09-29 17:24:21|2022-09-29 18:32:05|14th & D St NW / Ronald Reagan Building  |31231           |4th & East Capitol St NE                 |31618         |-77.031617        |-77.000349       |casual       |4064    |\n",
      "|7B99FCADC829EAC0|classic_bike |2022-09-13 23:51:12|2022-09-14 00:35:14|New Hampshire Ave & 24th St NW           |31275           |New Hampshire Ave & 24th St NW           |31275         |-77.051084        |-77.051084       |casual       |2642    |\n",
      "|CCBA4E0E3416BCBB|classic_bike |2022-09-14 12:14:50|2022-09-14 13:15:32|Maine Ave & 9th St SW                    |31646           |Maine Ave & 9th St SW                    |31646         |-77.025236        |-77.025236       |casual       |3642    |\n",
      "|74F5BD0A6D6ADCF2|classic_bike |2022-09-25 13:50:46|2022-09-25 13:50:48|16th & Irving St NW                      |31122           |16th & Irving St NW                      |31122         |-77.03625         |-77.03625        |member       |2       |\n",
      "|043A701E69CEBCAF|electric_bike|2022-09-06 17:12:40|2022-09-06 17:30:23|Maine Ave & 9th St SW                    |31646           |null                                     |null          |-77.0252635       |-76.98           |member       |1063    |\n",
      "|ABEAA9F6C5E7F754|electric_bike|2022-09-25 16:19:29|2022-09-25 16:26:22|16th & Irving St NW                      |31122           |null                                     |null          |-77.03624133333334|-77.04           |member       |413     |\n",
      "|18A66E46852DABC1|classic_bike |2022-09-26 07:44:16|2022-09-26 07:44:57|Columbia Pike & S Walter Reed Dr         |31067           |Columbia Pike & S Walter Reed Dr         |31067         |-77.086599        |-77.086599       |member       |41      |\n",
      "|5ECCD1F7A2F86E37|classic_bike |2022-09-10 14:42:53|2022-09-10 15:21:37|18th & C St NW                           |31284           |18th & C St NW                           |31284         |-77.041544        |-77.041544       |casual       |2324    |\n",
      "|9CD3ABBED025DDE1|docked_bike  |2022-09-14 08:30:18|2022-09-14 09:19:50|Wisconsin Ave & O St NW                  |31312           |Washington & Independence Ave SW/HHS     |31272         |-77.063586        |-77.013769       |casual       |2972    |\n",
      "|943C932C0A77C158|classic_bike |2022-09-19 13:39:10|2022-09-19 13:46:07|Columbia Rd & Belmont St NW              |31113           |Massachusetts Ave & Dupont Circle NW     |31200         |-77.04368         |-77.0444         |casual       |417     |\n",
      "|1CB8B9805B9DA285|classic_bike |2022-09-26 07:49:12|2022-09-26 08:03:54|Columbia Pike & S Walter Reed Dr         |31067           |Barcroft Community Center                |31033         |-77.086599        |-77.1009886264801|casual       |882     |\n",
      "|C39FB4C1E4696C1F|classic_bike |2022-09-26 07:46:40|2022-09-26 07:56:01|Columbia Pike & S Walter Reed Dr         |31067           |Washington Blvd & Walter Reed Dr         |31073         |-77.086599        |-77.082104       |member       |561     |\n",
      "|A461ADD9B8BE9305|classic_bike |2022-09-01 07:43:57|2022-09-01 07:51:25|Columbia Pike & S Walter Reed Dr         |31067           |Washington Blvd & Walter Reed Dr         |31073         |-77.086599        |-77.082104       |member       |448     |\n",
      "|A1533FB9DCC8230A|classic_bike |2022-09-24 08:13:51|2022-09-24 08:17:18|Connecticut & Nebraska Ave NW            |31310           |Van Ness Metro / UDC                     |31300         |-77.069956        |-77.063896       |member       |207     |\n",
      "|061F71119DB904F3|docked_bike  |2022-09-29 14:13:11|2022-09-29 15:01:08|King St & Patrick St                     |31044           |Eads St & 12th St S                      |31071         |-77.049883        |-77.054541       |casual       |2877    |\n",
      "|9E75210C7BE9AB3F|classic_bike |2022-09-27 16:12:15|2022-09-27 16:20:17|Connecticut Ave & McKinley St NW         |31315           |Fessenden St & Wisconsin Ave NW          |31309         |-77.07513481378555|-77.082426       |member       |482     |\n",
      "|5E5F87F524C8B2DA|classic_bike |2022-09-01 10:50:44|2022-09-01 10:55:05|Connecticut & Nebraska Ave NW            |31310           |Connecticut Ave & Yuma St NW             |31318         |-77.069956        |-77.065115       |member       |261     |\n",
      "+----------------+-------------+-------------------+-------------------+-----------------------------------------+----------------+-----------------------------------------+--------------+------------------+-----------------+-------------+--------+\n",
      "only showing top 20 rows\n",
      "\n"
     ]
    }
   ],
   "source": [
    "## reading data from source using schema\n",
    "\n",
    "schema = StructType() \\\n",
    "      .add(\"ride_id\",StringType(),True) \\\n",
    "      .add(\"rideable_type\",StringType(),True) \\\n",
    "      .add(\"started_at\", TimestampType(), True)\\\n",
    "      .add(\"ended_at\", TimestampType(), True)\\\n",
    "      .add(\"start_station_name\",StringType(),True) \\\n",
    "      .add(\"start_station_id\",IntegerType(),True) \\\n",
    "      .add(\"end_station_name\", StringType(), True)\\\n",
    "      .add(\"end_station_id\",IntegerType(), True)\\\n",
    "      .add(\"start_lat\",DoubleType(), True)\\\n",
    "      .add(\"start_lng\",DoubleType(), True)\\\n",
    "      .add(\"end_lat\",DoubleType(), True)\\\n",
    "      .add(\"end_lng\",DoubleType(), True)\\\n",
    "      .add(\"member_casual\",StringType(),True) \n",
    "#df = spark.read.csv('C:\\\\Users\\\\17063\\\\Downloads\\\\202209-capitalbikeshare-tripdata\\\\202209-capitalbikeshare-tripdata.csv',header = 'true',schema=schema)\n",
    "df.show(truncate=False)\n",
    "#df = spark.read.csv('https://s3.amazonaws.com/capitalbikeshare-data/index.html',header = 'true',schema=schema)\n",
    "\n",
    "#df.limit(10).toPandas()"
   ]
  },
  {
   "cell_type": "code",
   "execution_count": 32,
   "id": "f51c8deb",
   "metadata": {},
   "outputs": [
    {
     "name": "stdout",
     "output_type": "stream",
     "text": [
      "+----------------+-------------+-------------------+-------------------+-----------------------------------------+----------------+-----------------------------------------+--------------+------------------+-----------------+-------------+--------+\n",
      "|ride_id         |rideable_type|started_at         |ended_at           |start_station_name                       |start_station_id|end_station_name                         |end_station_id|start_lng         |end_lng          |member_casual|duration|\n",
      "+----------------+-------------+-------------------+-------------------+-----------------------------------------+----------------+-----------------------------------------+--------------+------------------+-----------------+-------------+--------+\n",
      "|C40CF15D0DBE584E|classic_bike |2022-09-23 18:42:27|2022-09-24 08:27:11|Georgia Ave & Morton St NW               |31419           |14th St Heights / 14th & Crittenden St NW|31402         |-77.0235          |-77.032818       |member       |49484   |\n",
      "|3788C1944643B399|classic_bike |2022-09-22 01:35:01|2022-09-22 01:49:59|7th & T St NW                            |31109           |7th St & Massachusetts Ave NE            |31647         |-77.021703        |-76.99602        |member       |898     |\n",
      "|A9E14A3286BB0922|classic_bike |2022-09-16 17:04:11|2022-09-16 17:08:40|7th & F St NW / National Portrait Gallery|31232           |North Capitol St & F St NW               |31624         |-77.02219069004059|-77.009888       |member       |269     |\n",
      "|77518ADEB4313901|classic_bike |2022-09-29 17:24:21|2022-09-29 18:32:05|14th & D St NW / Ronald Reagan Building  |31231           |4th & East Capitol St NE                 |31618         |-77.031617        |-77.000349       |casual       |4064    |\n",
      "|7B99FCADC829EAC0|classic_bike |2022-09-13 23:51:12|2022-09-14 00:35:14|New Hampshire Ave & 24th St NW           |31275           |New Hampshire Ave & 24th St NW           |31275         |-77.051084        |-77.051084       |casual       |2642    |\n",
      "|CCBA4E0E3416BCBB|classic_bike |2022-09-14 12:14:50|2022-09-14 13:15:32|Maine Ave & 9th St SW                    |31646           |Maine Ave & 9th St SW                    |31646         |-77.025236        |-77.025236       |casual       |3642    |\n",
      "|74F5BD0A6D6ADCF2|classic_bike |2022-09-25 13:50:46|2022-09-25 13:50:48|16th & Irving St NW                      |31122           |16th & Irving St NW                      |31122         |-77.03625         |-77.03625        |member       |2       |\n",
      "|043A701E69CEBCAF|electric_bike|2022-09-06 17:12:40|2022-09-06 17:30:23|Maine Ave & 9th St SW                    |31646           |null                                     |null          |-77.0252635       |-76.98           |member       |1063    |\n",
      "|ABEAA9F6C5E7F754|electric_bike|2022-09-25 16:19:29|2022-09-25 16:26:22|16th & Irving St NW                      |31122           |null                                     |null          |-77.03624133333334|-77.04           |member       |413     |\n",
      "|18A66E46852DABC1|classic_bike |2022-09-26 07:44:16|2022-09-26 07:44:57|Columbia Pike & S Walter Reed Dr         |31067           |Columbia Pike & S Walter Reed Dr         |31067         |-77.086599        |-77.086599       |member       |41      |\n",
      "|5ECCD1F7A2F86E37|classic_bike |2022-09-10 14:42:53|2022-09-10 15:21:37|18th & C St NW                           |31284           |18th & C St NW                           |31284         |-77.041544        |-77.041544       |casual       |2324    |\n",
      "|9CD3ABBED025DDE1|docked_bike  |2022-09-14 08:30:18|2022-09-14 09:19:50|Wisconsin Ave & O St NW                  |31312           |Washington & Independence Ave SW/HHS     |31272         |-77.063586        |-77.013769       |casual       |2972    |\n",
      "|943C932C0A77C158|classic_bike |2022-09-19 13:39:10|2022-09-19 13:46:07|Columbia Rd & Belmont St NW              |31113           |Massachusetts Ave & Dupont Circle NW     |31200         |-77.04368         |-77.0444         |casual       |417     |\n",
      "|1CB8B9805B9DA285|classic_bike |2022-09-26 07:49:12|2022-09-26 08:03:54|Columbia Pike & S Walter Reed Dr         |31067           |Barcroft Community Center                |31033         |-77.086599        |-77.1009886264801|casual       |882     |\n",
      "|C39FB4C1E4696C1F|classic_bike |2022-09-26 07:46:40|2022-09-26 07:56:01|Columbia Pike & S Walter Reed Dr         |31067           |Washington Blvd & Walter Reed Dr         |31073         |-77.086599        |-77.082104       |member       |561     |\n",
      "|A461ADD9B8BE9305|classic_bike |2022-09-01 07:43:57|2022-09-01 07:51:25|Columbia Pike & S Walter Reed Dr         |31067           |Washington Blvd & Walter Reed Dr         |31073         |-77.086599        |-77.082104       |member       |448     |\n",
      "|A1533FB9DCC8230A|classic_bike |2022-09-24 08:13:51|2022-09-24 08:17:18|Connecticut & Nebraska Ave NW            |31310           |Van Ness Metro / UDC                     |31300         |-77.069956        |-77.063896       |member       |207     |\n",
      "|061F71119DB904F3|docked_bike  |2022-09-29 14:13:11|2022-09-29 15:01:08|King St & Patrick St                     |31044           |Eads St & 12th St S                      |31071         |-77.049883        |-77.054541       |casual       |2877    |\n",
      "|9E75210C7BE9AB3F|classic_bike |2022-09-27 16:12:15|2022-09-27 16:20:17|Connecticut Ave & McKinley St NW         |31315           |Fessenden St & Wisconsin Ave NW          |31309         |-77.07513481378555|-77.082426       |member       |482     |\n",
      "|5E5F87F524C8B2DA|classic_bike |2022-09-01 10:50:44|2022-09-01 10:55:05|Connecticut & Nebraska Ave NW            |31310           |Connecticut Ave & Yuma St NW             |31318         |-77.069956        |-77.065115       |member       |261     |\n",
      "+----------------+-------------+-------------------+-------------------+-----------------------------------------+----------------+-----------------------------------------+--------------+------------------+-----------------+-------------+--------+\n",
      "only showing top 20 rows\n",
      "\n"
     ]
    }
   ],
   "source": [
    "## Dropping the latitude related columns\n",
    "## Pyspark allows us to drop the required columns if we use drop function. We have read the data to dataframe and using pyspark function drop we have dropped the columns we need.\n",
    "df=df.drop('start_lat','end_lat')\n",
    "df.show(truncate=False) \n"
   ]
  },
  {
   "cell_type": "code",
   "execution_count": 14,
   "id": "72ec2686",
   "metadata": {},
   "outputs": [
    {
     "name": "stdout",
     "output_type": "stream",
     "text": [
      "+----------------+-------------+-------------------+-------------------+-----------------------------------------+----------------+-----------------------------------------+--------------+------------------+-----------------+-------------+--------+\n",
      "|ride_id         |rideable_type|started_at         |ended_at           |start_station_name                       |start_station_id|end_station_name                         |end_station_id|start_lng         |end_lng          |member_casual|duration|\n",
      "+----------------+-------------+-------------------+-------------------+-----------------------------------------+----------------+-----------------------------------------+--------------+------------------+-----------------+-------------+--------+\n",
      "|C40CF15D0DBE584E|classic_bike |2022-09-23 18:42:27|2022-09-24 08:27:11|Georgia Ave & Morton St NW               |31419           |14th St Heights / 14th & Crittenden St NW|31402         |-77.0235          |-77.032818       |member       |49484   |\n",
      "|3788C1944643B399|classic_bike |2022-09-22 01:35:01|2022-09-22 01:49:59|7th & T St NW                            |31109           |7th St & Massachusetts Ave NE            |31647         |-77.021703        |-76.99602        |member       |898     |\n",
      "|A9E14A3286BB0922|classic_bike |2022-09-16 17:04:11|2022-09-16 17:08:40|7th & F St NW / National Portrait Gallery|31232           |North Capitol St & F St NW               |31624         |-77.02219069004059|-77.009888       |member       |269     |\n",
      "|77518ADEB4313901|classic_bike |2022-09-29 17:24:21|2022-09-29 18:32:05|14th & D St NW / Ronald Reagan Building  |31231           |4th & East Capitol St NE                 |31618         |-77.031617        |-77.000349       |casual       |4064    |\n",
      "|7B99FCADC829EAC0|classic_bike |2022-09-13 23:51:12|2022-09-14 00:35:14|New Hampshire Ave & 24th St NW           |31275           |New Hampshire Ave & 24th St NW           |31275         |-77.051084        |-77.051084       |casual       |2642    |\n",
      "|CCBA4E0E3416BCBB|classic_bike |2022-09-14 12:14:50|2022-09-14 13:15:32|Maine Ave & 9th St SW                    |31646           |Maine Ave & 9th St SW                    |31646         |-77.025236        |-77.025236       |casual       |3642    |\n",
      "|74F5BD0A6D6ADCF2|classic_bike |2022-09-25 13:50:46|2022-09-25 13:50:48|16th & Irving St NW                      |31122           |16th & Irving St NW                      |31122         |-77.03625         |-77.03625        |member       |2       |\n",
      "|043A701E69CEBCAF|electric_bike|2022-09-06 17:12:40|2022-09-06 17:30:23|Maine Ave & 9th St SW                    |31646           |null                                     |null          |-77.0252635       |-76.98           |member       |1063    |\n",
      "|ABEAA9F6C5E7F754|electric_bike|2022-09-25 16:19:29|2022-09-25 16:26:22|16th & Irving St NW                      |31122           |null                                     |null          |-77.03624133333334|-77.04           |member       |413     |\n",
      "|18A66E46852DABC1|classic_bike |2022-09-26 07:44:16|2022-09-26 07:44:57|Columbia Pike & S Walter Reed Dr         |31067           |Columbia Pike & S Walter Reed Dr         |31067         |-77.086599        |-77.086599       |member       |41      |\n",
      "|5ECCD1F7A2F86E37|classic_bike |2022-09-10 14:42:53|2022-09-10 15:21:37|18th & C St NW                           |31284           |18th & C St NW                           |31284         |-77.041544        |-77.041544       |casual       |2324    |\n",
      "|9CD3ABBED025DDE1|docked_bike  |2022-09-14 08:30:18|2022-09-14 09:19:50|Wisconsin Ave & O St NW                  |31312           |Washington & Independence Ave SW/HHS     |31272         |-77.063586        |-77.013769       |casual       |2972    |\n",
      "|943C932C0A77C158|classic_bike |2022-09-19 13:39:10|2022-09-19 13:46:07|Columbia Rd & Belmont St NW              |31113           |Massachusetts Ave & Dupont Circle NW     |31200         |-77.04368         |-77.0444         |casual       |417     |\n",
      "|1CB8B9805B9DA285|classic_bike |2022-09-26 07:49:12|2022-09-26 08:03:54|Columbia Pike & S Walter Reed Dr         |31067           |Barcroft Community Center                |31033         |-77.086599        |-77.1009886264801|casual       |882     |\n",
      "|C39FB4C1E4696C1F|classic_bike |2022-09-26 07:46:40|2022-09-26 07:56:01|Columbia Pike & S Walter Reed Dr         |31067           |Washington Blvd & Walter Reed Dr         |31073         |-77.086599        |-77.082104       |member       |561     |\n",
      "|A461ADD9B8BE9305|classic_bike |2022-09-01 07:43:57|2022-09-01 07:51:25|Columbia Pike & S Walter Reed Dr         |31067           |Washington Blvd & Walter Reed Dr         |31073         |-77.086599        |-77.082104       |member       |448     |\n",
      "|A1533FB9DCC8230A|classic_bike |2022-09-24 08:13:51|2022-09-24 08:17:18|Connecticut & Nebraska Ave NW            |31310           |Van Ness Metro / UDC                     |31300         |-77.069956        |-77.063896       |member       |207     |\n",
      "|061F71119DB904F3|docked_bike  |2022-09-29 14:13:11|2022-09-29 15:01:08|King St & Patrick St                     |31044           |Eads St & 12th St S                      |31071         |-77.049883        |-77.054541       |casual       |2877    |\n",
      "|9E75210C7BE9AB3F|classic_bike |2022-09-27 16:12:15|2022-09-27 16:20:17|Connecticut Ave & McKinley St NW         |31315           |Fessenden St & Wisconsin Ave NW          |31309         |-77.07513481378555|-77.082426       |member       |482     |\n",
      "|5E5F87F524C8B2DA|classic_bike |2022-09-01 10:50:44|2022-09-01 10:55:05|Connecticut & Nebraska Ave NW            |31310           |Connecticut Ave & Yuma St NW             |31318         |-77.069956        |-77.065115       |member       |261     |\n",
      "+----------------+-------------+-------------------+-------------------+-----------------------------------------+----------------+-----------------------------------------+--------------+------------------+-----------------+-------------+--------+\n",
      "only showing top 20 rows\n",
      "\n"
     ]
    }
   ],
   "source": [
    "## Calculating the duration of each ride\n",
    "# Have converted the time to long to find the difference in seconds. The result will be inseconds. \n",
    "df=df.withColumn('duration',df.ended_at.cast(\"long\")-df.started_at.cast(\"long\"))\n",
    "df.show(truncate=False)"
   ]
  },
  {
   "cell_type": "code",
   "execution_count": 19,
   "id": "1ed5e247",
   "metadata": {},
   "outputs": [
    {
     "name": "stdout",
     "output_type": "stream",
     "text": [
      "+-------------+-----------------+\n",
      "|rideable_type|avg(duration)    |\n",
      "+-------------+-----------------+\n",
      "|docked_bike  |5128.224625863392|\n",
      "|electric_bike|939.266778716644 |\n",
      "|classic_bike |1180.554738287902|\n",
      "+-------------+-----------------+\n",
      "\n"
     ]
    }
   ],
   "source": [
    "##Calculating average ride duration for each rideable type\n",
    "## Used Group by on column rideabletype and used avg function to find duration for each rideableType \n",
    "df_avg_by_rideableType=df.groupBy(\"rideable_type\").avg(\"duration\")\n",
    "df_avg_by_rideableType.show(truncate=False)\n",
    "#df_average.write.mode('overwrite').format('csv').save('C:\\\\Users\\\\17063\\\\output')"
   ]
  },
  {
   "cell_type": "code",
   "execution_count": 20,
   "id": "551b75e1",
   "metadata": {},
   "outputs": [
    {
     "name": "stdout",
     "output_type": "stream",
     "text": [
      "+-----------------------------+--------+\n",
      "|start_station_name           |duration|\n",
      "+-----------------------------+--------+\n",
      "|10th & E St NW               |89995   |\n",
      "|10th & E St NW               |89991   |\n",
      "|10th & E St NW               |89988   |\n",
      "|10th & G St NW               |90001   |\n",
      "|10th & G St NW               |89992   |\n",
      "|10th & K St NW               |89994   |\n",
      "|10th & K St NW               |89992   |\n",
      "|10th & Monroe St NE          |827525  |\n",
      "|10th & Monroe St NE          |156486  |\n",
      "|10th St & Constitution Ave NW|89990   |\n",
      "|10th St & Florida Ave NW     |89992   |\n",
      "|11th & Girard St NW          |89993   |\n",
      "|11th & Kenyon St NW          |89995   |\n",
      "|11th & M St NW               |157708  |\n",
      "|11th & M St NW               |89995   |\n",
      "|11th & M St NW               |89995   |\n",
      "|11th & O St NW               |89993   |\n",
      "|11th & S St NW               |89992   |\n",
      "|11th & S St NW               |89981   |\n",
      "|11th & V st NW               |291850  |\n",
      "+-----------------------------+--------+\n",
      "only showing top 20 rows\n",
      "\n",
      "DataFrame[start_station_name: string, duration: bigint]\n"
     ]
    }
   ],
   "source": [
    "##Calculating top 10 ride durations (longer than 24 hours) for each start station\n",
    "## Used windowing function and where clause to find the rides longer than 24 hours and top 10 rides for each station\n",
    "df.createOrReplaceTempView('Temp')\n",
    "df_ridesgreaterthan24hrs= spark.sql('select start_station_name,duration  from (select *, DENSE_RANK() OVER (PARTITION BY start_station_name ORDER BY duration DESC ) AS Rank from Temp where duration > 86400) AS Tmp WHERE Rank<=10  ')\n",
    "df_ridesgreaterthan24hrs.show(truncate= False)"
   ]
  }
 ],
 "metadata": {
  "kernelspec": {
   "display_name": "Python 3 (ipykernel)",
   "language": "python",
   "name": "python3"
  },
  "language_info": {
   "codemirror_mode": {
    "name": "ipython",
    "version": 3
   },
   "file_extension": ".py",
   "mimetype": "text/x-python",
   "name": "python",
   "nbconvert_exporter": "python",
   "pygments_lexer": "ipython3",
   "version": "3.9.13"
  }
 },
 "nbformat": 4,
 "nbformat_minor": 5
}
